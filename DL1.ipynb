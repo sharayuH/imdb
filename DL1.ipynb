{
 "cells": [
  {
   "cell_type": "markdown",
   "metadata": {
    "id": "FSAJpJIt0MWY"
   },
   "source": [
    "#### Import libraries"
   ]
  },
  {
   "cell_type": "code",
   "execution_count": 20,
   "metadata": {
    "id": "IBlzwrLLzk06"
   },
   "outputs": [],
   "source": [
    "import pandas as pd\n",
    "import numpy as np\n",
    "import seaborn as sns\n",
    "from sklearn.metrics import mean_absolute_error\n",
    "\n",
    "df = pd.read_csv('HousingData.csv')"
   ]
  },
  {
   "cell_type": "code",
   "execution_count": 21,
   "metadata": {
    "colab": {
     "base_uri": "https://localhost:8080/",
     "height": 206
    },
    "id": "CUhk4JeR1KPu",
    "outputId": "8647e805-e89a-443e-aee6-6ca9dd9125c0"
   },
   "outputs": [
    {
     "data": {
      "text/html": [
       "<div>\n",
       "<style scoped>\n",
       "    .dataframe tbody tr th:only-of-type {\n",
       "        vertical-align: middle;\n",
       "    }\n",
       "\n",
       "    .dataframe tbody tr th {\n",
       "        vertical-align: top;\n",
       "    }\n",
       "\n",
       "    .dataframe thead th {\n",
       "        text-align: right;\n",
       "    }\n",
       "</style>\n",
       "<table border=\"1\" class=\"dataframe\">\n",
       "  <thead>\n",
       "    <tr style=\"text-align: right;\">\n",
       "      <th></th>\n",
       "      <th>CRIM</th>\n",
       "      <th>ZN</th>\n",
       "      <th>INDUS</th>\n",
       "      <th>CHAS</th>\n",
       "      <th>NOX</th>\n",
       "      <th>RM</th>\n",
       "      <th>AGE</th>\n",
       "      <th>DIS</th>\n",
       "      <th>RAD</th>\n",
       "      <th>TAX</th>\n",
       "      <th>PTRATIO</th>\n",
       "      <th>B</th>\n",
       "      <th>LSTAT</th>\n",
       "      <th>MEDV</th>\n",
       "    </tr>\n",
       "  </thead>\n",
       "  <tbody>\n",
       "    <tr>\n",
       "      <th>0</th>\n",
       "      <td>0.00632</td>\n",
       "      <td>18.0</td>\n",
       "      <td>2.31</td>\n",
       "      <td>0.0</td>\n",
       "      <td>0.538</td>\n",
       "      <td>6.575</td>\n",
       "      <td>65.2</td>\n",
       "      <td>4.0900</td>\n",
       "      <td>1</td>\n",
       "      <td>296</td>\n",
       "      <td>15.3</td>\n",
       "      <td>396.90</td>\n",
       "      <td>4.98</td>\n",
       "      <td>24.0</td>\n",
       "    </tr>\n",
       "    <tr>\n",
       "      <th>1</th>\n",
       "      <td>0.02731</td>\n",
       "      <td>0.0</td>\n",
       "      <td>7.07</td>\n",
       "      <td>0.0</td>\n",
       "      <td>0.469</td>\n",
       "      <td>6.421</td>\n",
       "      <td>78.9</td>\n",
       "      <td>4.9671</td>\n",
       "      <td>2</td>\n",
       "      <td>242</td>\n",
       "      <td>17.8</td>\n",
       "      <td>396.90</td>\n",
       "      <td>9.14</td>\n",
       "      <td>21.6</td>\n",
       "    </tr>\n",
       "    <tr>\n",
       "      <th>2</th>\n",
       "      <td>0.02729</td>\n",
       "      <td>0.0</td>\n",
       "      <td>7.07</td>\n",
       "      <td>0.0</td>\n",
       "      <td>0.469</td>\n",
       "      <td>7.185</td>\n",
       "      <td>61.1</td>\n",
       "      <td>4.9671</td>\n",
       "      <td>2</td>\n",
       "      <td>242</td>\n",
       "      <td>17.8</td>\n",
       "      <td>392.83</td>\n",
       "      <td>4.03</td>\n",
       "      <td>34.7</td>\n",
       "    </tr>\n",
       "    <tr>\n",
       "      <th>3</th>\n",
       "      <td>0.03237</td>\n",
       "      <td>0.0</td>\n",
       "      <td>2.18</td>\n",
       "      <td>0.0</td>\n",
       "      <td>0.458</td>\n",
       "      <td>6.998</td>\n",
       "      <td>45.8</td>\n",
       "      <td>6.0622</td>\n",
       "      <td>3</td>\n",
       "      <td>222</td>\n",
       "      <td>18.7</td>\n",
       "      <td>394.63</td>\n",
       "      <td>2.94</td>\n",
       "      <td>33.4</td>\n",
       "    </tr>\n",
       "    <tr>\n",
       "      <th>4</th>\n",
       "      <td>0.06905</td>\n",
       "      <td>0.0</td>\n",
       "      <td>2.18</td>\n",
       "      <td>0.0</td>\n",
       "      <td>0.458</td>\n",
       "      <td>7.147</td>\n",
       "      <td>54.2</td>\n",
       "      <td>6.0622</td>\n",
       "      <td>3</td>\n",
       "      <td>222</td>\n",
       "      <td>18.7</td>\n",
       "      <td>396.90</td>\n",
       "      <td>NaN</td>\n",
       "      <td>36.2</td>\n",
       "    </tr>\n",
       "  </tbody>\n",
       "</table>\n",
       "</div>"
      ],
      "text/plain": [
       "      CRIM    ZN  INDUS  CHAS    NOX     RM   AGE     DIS  RAD  TAX  PTRATIO  \\\n",
       "0  0.00632  18.0   2.31   0.0  0.538  6.575  65.2  4.0900    1  296     15.3   \n",
       "1  0.02731   0.0   7.07   0.0  0.469  6.421  78.9  4.9671    2  242     17.8   \n",
       "2  0.02729   0.0   7.07   0.0  0.469  7.185  61.1  4.9671    2  242     17.8   \n",
       "3  0.03237   0.0   2.18   0.0  0.458  6.998  45.8  6.0622    3  222     18.7   \n",
       "4  0.06905   0.0   2.18   0.0  0.458  7.147  54.2  6.0622    3  222     18.7   \n",
       "\n",
       "        B  LSTAT  MEDV  \n",
       "0  396.90   4.98  24.0  \n",
       "1  396.90   9.14  21.6  \n",
       "2  392.83   4.03  34.7  \n",
       "3  394.63   2.94  33.4  \n",
       "4  396.90    NaN  36.2  "
      ]
     },
     "execution_count": 21,
     "metadata": {},
     "output_type": "execute_result"
    }
   ],
   "source": [
    "df.head()"
   ]
  },
  {
   "cell_type": "code",
   "execution_count": 22,
   "metadata": {
    "colab": {
     "base_uri": "https://localhost:8080/"
    },
    "id": "izd2tk1R20Fj",
    "outputId": "2b25df5c-04ed-49fc-b51e-3a8c83f7c77a"
   },
   "outputs": [
    {
     "data": {
      "text/plain": [
       "CRIM       20\n",
       "ZN         20\n",
       "INDUS      20\n",
       "CHAS       20\n",
       "NOX         0\n",
       "RM          0\n",
       "AGE        20\n",
       "DIS         0\n",
       "RAD         0\n",
       "TAX         0\n",
       "PTRATIO     0\n",
       "B           0\n",
       "LSTAT      20\n",
       "MEDV        0\n",
       "dtype: int64"
      ]
     },
     "execution_count": 22,
     "metadata": {},
     "output_type": "execute_result"
    }
   ],
   "source": [
    "df.isnull().sum()"
   ]
  },
  {
   "cell_type": "code",
   "execution_count": 23,
   "metadata": {},
   "outputs": [],
   "source": [
    "df.fillna(df.mean(), inplace=True)"
   ]
  },
  {
   "cell_type": "code",
   "execution_count": 24,
   "metadata": {},
   "outputs": [
    {
     "data": {
      "text/plain": [
       "CRIM       0\n",
       "ZN         0\n",
       "INDUS      0\n",
       "CHAS       0\n",
       "NOX        0\n",
       "RM         0\n",
       "AGE        0\n",
       "DIS        0\n",
       "RAD        0\n",
       "TAX        0\n",
       "PTRATIO    0\n",
       "B          0\n",
       "LSTAT      0\n",
       "MEDV       0\n",
       "dtype: int64"
      ]
     },
     "execution_count": 24,
     "metadata": {},
     "output_type": "execute_result"
    }
   ],
   "source": [
    "df.isnull().sum()"
   ]
  },
  {
   "cell_type": "code",
   "execution_count": 25,
   "metadata": {},
   "outputs": [
    {
     "data": {
      "text/plain": [
       "(506, 14)"
      ]
     },
     "execution_count": 25,
     "metadata": {},
     "output_type": "execute_result"
    }
   ],
   "source": [
    "df.shape"
   ]
  },
  {
   "cell_type": "code",
   "execution_count": 26,
   "metadata": {
    "id": "Ci4Zbzw66sE2"
   },
   "outputs": [],
   "source": [
    "# for i in df.columns:\n",
    "#   df[i].replace([np.nan], df[i].mean(), inplace=True)"
   ]
  },
  {
   "cell_type": "code",
   "execution_count": 5,
   "metadata": {
    "id": "nGSvDcxA7Fs7"
   },
   "outputs": [],
   "source": [
    "df.dropna(inplace=True)"
   ]
  },
  {
   "cell_type": "code",
   "execution_count": 6,
   "metadata": {
    "colab": {
     "base_uri": "https://localhost:8080/"
    },
    "id": "36Qlq9HG7IN4",
    "outputId": "3782f7e2-8a33-4f73-a66c-804659ebc609"
   },
   "outputs": [
    {
     "data": {
      "text/plain": [
       "(506, 14)"
      ]
     },
     "execution_count": 6,
     "metadata": {},
     "output_type": "execute_result"
    }
   ],
   "source": [
    "df.shape"
   ]
  },
  {
   "cell_type": "code",
   "execution_count": 7,
   "metadata": {
    "colab": {
     "base_uri": "https://localhost:8080/"
    },
    "id": "cPeT2egY23uu",
    "outputId": "8cc4b4ad-3bab-43b9-d833-6a18c6a8a4f8"
   },
   "outputs": [
    {
     "data": {
      "text/plain": [
       "CRIM       0\n",
       "ZN         0\n",
       "INDUS      0\n",
       "CHAS       0\n",
       "NOX        0\n",
       "RM         0\n",
       "AGE        0\n",
       "DIS        0\n",
       "RAD        0\n",
       "TAX        0\n",
       "PTRATIO    0\n",
       "B          0\n",
       "LSTAT      0\n",
       "MEDV       0\n",
       "dtype: int64"
      ]
     },
     "execution_count": 7,
     "metadata": {},
     "output_type": "execute_result"
    }
   ],
   "source": [
    "df.isnull().sum()"
   ]
  },
  {
   "cell_type": "code",
   "execution_count": 8,
   "metadata": {
    "colab": {
     "base_uri": "https://localhost:8080/"
    },
    "id": "qb9uM0-n26b4",
    "outputId": "9c2e5f2b-64c3-488e-be0f-90e332d2736f"
   },
   "outputs": [
    {
     "data": {
      "text/plain": [
       "(506, 14)"
      ]
     },
     "execution_count": 8,
     "metadata": {},
     "output_type": "execute_result"
    }
   ],
   "source": [
    "df.shape"
   ]
  },
  {
   "cell_type": "code",
   "execution_count": 9,
   "metadata": {
    "id": "3_Ra3fd8zk1K"
   },
   "outputs": [],
   "source": [
    "from sklearn.model_selection import train_test_split\n",
    "\n",
    "X = df.loc[:, df.columns != 'MEDV']\n",
    "y = df.loc[:, df.columns == 'MEDV']\n",
    "X_train, X_test, y_train, y_test = train_test_split(X, y, test_size=0.3, random_state=123)"
   ]
  },
  {
   "cell_type": "code",
   "execution_count": 10,
   "metadata": {
    "id": "zsTINMxnzk1N"
   },
   "outputs": [],
   "source": [
    "## Normalization\n",
    "#mean = X_train.mean(axis=0)\n",
    "#std = X_train.std(axis=0)\n",
    "\n",
    "#X_train = (X_train - mean) / std\n",
    "#X_test = (X_test - mean) / std"
   ]
  },
  {
   "cell_type": "markdown",
   "metadata": {
    "id": "IFrpyz3A1ZVq"
   },
   "source": [
    "#### Building model"
   ]
  },
  {
   "cell_type": "code",
   "execution_count": 11,
   "metadata": {
    "colab": {
     "base_uri": "https://localhost:8080/"
    },
    "id": "I7nIPBFezk1P",
    "outputId": "6ba6f9f4-5a8c-4344-b853-0bc4f81448cf"
   },
   "outputs": [
    {
     "name": "stdout",
     "output_type": "stream",
     "text": [
      "Model: \"sequential\"\n",
      "_________________________________________________________________\n",
      " Layer (type)                Output Shape              Param #   \n",
      "=================================================================\n",
      " dense_1 (Dense)             (None, 128)               1792      \n",
      "                                                                 \n",
      " dense_2 (Dense)             (None, 64)                8256      \n",
      "                                                                 \n",
      " dense_output (Dense)        (None, 1)                 65        \n",
      "                                                                 \n",
      "=================================================================\n",
      "Total params: 10,113\n",
      "Trainable params: 10,113\n",
      "Non-trainable params: 0\n",
      "_________________________________________________________________\n"
     ]
    }
   ],
   "source": [
    "from keras.models import Sequential\n",
    "from keras.layers import Dense\n",
    "\n",
    "model = Sequential()\n",
    "\n",
    "model.add(Dense(128, input_shape=(13, ), activation='relu', name='dense_1'))\n",
    "model.add(Dense(64, activation='relu', name='dense_2'))\n",
    "model.add(Dense(1, activation='linear', name='dense_output'))\n",
    "\n",
    "model.compile(optimizer='adam', loss='mse', metrics=['mae'])\n",
    "model.summary()"
   ]
  },
  {
   "cell_type": "code",
   "execution_count": 12,
   "metadata": {
    "colab": {
     "base_uri": "https://localhost:8080/"
    },
    "id": "r-oL24mJzk1R",
    "outputId": "5097a897-400f-42bf-99b3-d851f7735326",
    "scrolled": true
   },
   "outputs": [
    {
     "name": "stdout",
     "output_type": "stream",
     "text": [
      "Epoch 1/100\n",
      "11/11 [==============================] - 2s 48ms/step - loss: 223.0921 - mae: 12.2906 - val_loss: 138.9556 - val_mae: 8.0020\n",
      "Epoch 2/100\n",
      "11/11 [==============================] - 0s 6ms/step - loss: 120.6532 - mae: 8.8290 - val_loss: 135.6049 - val_mae: 7.8373\n",
      "Epoch 3/100\n",
      "11/11 [==============================] - 0s 6ms/step - loss: 84.8056 - mae: 7.2766 - val_loss: 129.0313 - val_mae: 7.4942\n",
      "Epoch 4/100\n",
      "11/11 [==============================] - 0s 6ms/step - loss: 71.4570 - mae: 6.5785 - val_loss: 113.1847 - val_mae: 6.6154\n",
      "Epoch 5/100\n",
      "11/11 [==============================] - 0s 6ms/step - loss: 66.7203 - mae: 6.0848 - val_loss: 93.2458 - val_mae: 6.4683\n",
      "Epoch 6/100\n",
      "11/11 [==============================] - 0s 5ms/step - loss: 60.9294 - mae: 5.7595 - val_loss: 93.4506 - val_mae: 6.5035\n",
      "Epoch 7/100\n",
      "11/11 [==============================] - 0s 6ms/step - loss: 64.1114 - mae: 5.7225 - val_loss: 92.6658 - val_mae: 6.7240\n",
      "Epoch 8/100\n",
      "11/11 [==============================] - 0s 6ms/step - loss: 58.1366 - mae: 5.4316 - val_loss: 99.7009 - val_mae: 6.1328\n",
      "Epoch 9/100\n",
      "11/11 [==============================] - 0s 6ms/step - loss: 55.7991 - mae: 5.3450 - val_loss: 85.0718 - val_mae: 6.3661\n",
      "Epoch 10/100\n",
      "11/11 [==============================] - 0s 5ms/step - loss: 52.7037 - mae: 4.9945 - val_loss: 84.0127 - val_mae: 7.0664\n",
      "Epoch 11/100\n",
      "11/11 [==============================] - 0s 6ms/step - loss: 51.0466 - mae: 5.0831 - val_loss: 88.1000 - val_mae: 7.7658\n",
      "Epoch 12/100\n",
      "11/11 [==============================] - 0s 6ms/step - loss: 52.9579 - mae: 5.1991 - val_loss: 101.2159 - val_mae: 8.9755\n",
      "Epoch 13/100\n",
      "11/11 [==============================] - 0s 5ms/step - loss: 64.0444 - mae: 5.8299 - val_loss: 77.8198 - val_mae: 5.6093\n",
      "Epoch 14/100\n",
      "11/11 [==============================] - 0s 7ms/step - loss: 54.0842 - mae: 5.1734 - val_loss: 87.1997 - val_mae: 6.1671\n",
      "Epoch 15/100\n",
      "11/11 [==============================] - 0s 7ms/step - loss: 49.5880 - mae: 4.9425 - val_loss: 76.4590 - val_mae: 6.5909\n",
      "Epoch 16/100\n",
      "11/11 [==============================] - 0s 6ms/step - loss: 48.7877 - mae: 4.8251 - val_loss: 76.1673 - val_mae: 6.3316\n",
      "Epoch 17/100\n",
      "11/11 [==============================] - 0s 7ms/step - loss: 46.4691 - mae: 4.7220 - val_loss: 71.4297 - val_mae: 6.3179\n",
      "Epoch 18/100\n",
      "11/11 [==============================] - 0s 6ms/step - loss: 47.9880 - mae: 4.9168 - val_loss: 77.8628 - val_mae: 5.4159\n",
      "Epoch 19/100\n",
      "11/11 [==============================] - 0s 5ms/step - loss: 52.0172 - mae: 5.0086 - val_loss: 70.0786 - val_mae: 6.4197\n",
      "Epoch 20/100\n",
      "11/11 [==============================] - 0s 6ms/step - loss: 46.1799 - mae: 4.9022 - val_loss: 73.3492 - val_mae: 7.0410\n",
      "Epoch 21/100\n",
      "11/11 [==============================] - 0s 6ms/step - loss: 50.6029 - mae: 5.2999 - val_loss: 69.0905 - val_mae: 5.8542\n",
      "Epoch 22/100\n",
      "11/11 [==============================] - 0s 6ms/step - loss: 47.4928 - mae: 4.7805 - val_loss: 67.2766 - val_mae: 5.7748\n",
      "Epoch 23/100\n",
      "11/11 [==============================] - 0s 8ms/step - loss: 44.5032 - mae: 4.8550 - val_loss: 75.9711 - val_mae: 7.5915\n",
      "Epoch 24/100\n",
      "11/11 [==============================] - 0s 8ms/step - loss: 48.6336 - mae: 5.2061 - val_loss: 71.4775 - val_mae: 5.5881\n",
      "Epoch 25/100\n",
      "11/11 [==============================] - 0s 7ms/step - loss: 42.4380 - mae: 4.6300 - val_loss: 65.0250 - val_mae: 5.9872\n",
      "Epoch 26/100\n",
      "11/11 [==============================] - 0s 6ms/step - loss: 41.6493 - mae: 4.4735 - val_loss: 63.4803 - val_mae: 6.0413\n",
      "Epoch 27/100\n",
      "11/11 [==============================] - 0s 5ms/step - loss: 40.1712 - mae: 4.5031 - val_loss: 66.0904 - val_mae: 5.7271\n",
      "Epoch 28/100\n",
      "11/11 [==============================] - 0s 6ms/step - loss: 40.0199 - mae: 4.6158 - val_loss: 60.8498 - val_mae: 5.8057\n",
      "Epoch 29/100\n",
      "11/11 [==============================] - 0s 7ms/step - loss: 37.3799 - mae: 4.2871 - val_loss: 67.1567 - val_mae: 5.3104\n",
      "Epoch 30/100\n",
      "11/11 [==============================] - 0s 8ms/step - loss: 36.3726 - mae: 4.1982 - val_loss: 87.3108 - val_mae: 6.0932\n",
      "Epoch 31/100\n",
      "11/11 [==============================] - 0s 8ms/step - loss: 45.4648 - mae: 4.7251 - val_loss: 65.9840 - val_mae: 6.9650\n",
      "Epoch 32/100\n",
      "11/11 [==============================] - 0s 7ms/step - loss: 41.2815 - mae: 4.7600 - val_loss: 76.4585 - val_mae: 5.5136\n",
      "Epoch 33/100\n",
      "11/11 [==============================] - 0s 6ms/step - loss: 40.6879 - mae: 4.5527 - val_loss: 66.1376 - val_mae: 6.4080\n",
      "Epoch 34/100\n",
      "11/11 [==============================] - 0s 6ms/step - loss: 42.6817 - mae: 4.7406 - val_loss: 76.6210 - val_mae: 5.8093\n",
      "Epoch 35/100\n",
      "11/11 [==============================] - 0s 6ms/step - loss: 39.5168 - mae: 4.4138 - val_loss: 59.3997 - val_mae: 5.9141\n",
      "Epoch 36/100\n",
      "11/11 [==============================] - 0s 6ms/step - loss: 34.6281 - mae: 4.1709 - val_loss: 70.4194 - val_mae: 5.5310\n",
      "Epoch 37/100\n",
      "11/11 [==============================] - 0s 7ms/step - loss: 33.6401 - mae: 4.0143 - val_loss: 60.9090 - val_mae: 6.3143\n",
      "Epoch 38/100\n",
      "11/11 [==============================] - 0s 7ms/step - loss: 34.5892 - mae: 4.2909 - val_loss: 60.9224 - val_mae: 5.6158\n",
      "Epoch 39/100\n",
      "11/11 [==============================] - 0s 6ms/step - loss: 33.1881 - mae: 4.0462 - val_loss: 58.2570 - val_mae: 5.8872\n",
      "Epoch 40/100\n",
      "11/11 [==============================] - 0s 5ms/step - loss: 32.5695 - mae: 3.9985 - val_loss: 61.7936 - val_mae: 5.5784\n",
      "Epoch 41/100\n",
      "11/11 [==============================] - 0s 6ms/step - loss: 31.9609 - mae: 4.0911 - val_loss: 89.4557 - val_mae: 6.4070\n",
      "Epoch 42/100\n",
      "11/11 [==============================] - 0s 5ms/step - loss: 37.7780 - mae: 4.4807 - val_loss: 57.7649 - val_mae: 5.8022\n",
      "Epoch 43/100\n",
      "11/11 [==============================] - 0s 6ms/step - loss: 34.1116 - mae: 4.1932 - val_loss: 71.1935 - val_mae: 5.7487\n",
      "Epoch 44/100\n",
      "11/11 [==============================] - 0s 6ms/step - loss: 35.1091 - mae: 4.2362 - val_loss: 61.3692 - val_mae: 5.5944\n",
      "Epoch 45/100\n",
      "11/11 [==============================] - 0s 7ms/step - loss: 31.4948 - mae: 3.8733 - val_loss: 58.8991 - val_mae: 5.6885\n",
      "Epoch 46/100\n",
      "11/11 [==============================] - 0s 6ms/step - loss: 30.3759 - mae: 3.9094 - val_loss: 66.8392 - val_mae: 5.6118\n",
      "Epoch 47/100\n",
      "11/11 [==============================] - 0s 6ms/step - loss: 29.6633 - mae: 3.8659 - val_loss: 68.3967 - val_mae: 7.0274\n",
      "Epoch 48/100\n",
      "11/11 [==============================] - 0s 6ms/step - loss: 44.3893 - mae: 5.3733 - val_loss: 127.0940 - val_mae: 8.7797\n",
      "Epoch 49/100\n",
      "11/11 [==============================] - 0s 7ms/step - loss: 37.2995 - mae: 4.3746 - val_loss: 59.1072 - val_mae: 5.7240\n",
      "Epoch 50/100\n",
      "11/11 [==============================] - 0s 6ms/step - loss: 35.5692 - mae: 4.3697 - val_loss: 85.9954 - val_mae: 6.2531\n",
      "Epoch 51/100\n",
      "11/11 [==============================] - 0s 6ms/step - loss: 36.2103 - mae: 4.4842 - val_loss: 58.8401 - val_mae: 5.8615\n",
      "Epoch 52/100\n",
      "11/11 [==============================] - 0s 5ms/step - loss: 36.9671 - mae: 4.4014 - val_loss: 61.1007 - val_mae: 5.8543\n",
      "Epoch 53/100\n",
      "11/11 [==============================] - 0s 7ms/step - loss: 30.7651 - mae: 3.9973 - val_loss: 68.6271 - val_mae: 5.6232\n",
      "Epoch 54/100\n",
      "11/11 [==============================] - 0s 6ms/step - loss: 34.3492 - mae: 4.1886 - val_loss: 63.2455 - val_mae: 5.9162\n",
      "Epoch 55/100\n",
      "11/11 [==============================] - 0s 5ms/step - loss: 30.0510 - mae: 3.9263 - val_loss: 66.1830 - val_mae: 5.6193\n",
      "Epoch 56/100\n",
      "11/11 [==============================] - 0s 6ms/step - loss: 27.9993 - mae: 3.7027 - val_loss: 58.2522 - val_mae: 5.7404\n",
      "Epoch 57/100\n",
      "11/11 [==============================] - 0s 5ms/step - loss: 29.1309 - mae: 3.8406 - val_loss: 61.9990 - val_mae: 5.8594\n",
      "Epoch 58/100\n",
      "11/11 [==============================] - 0s 5ms/step - loss: 28.1652 - mae: 3.6826 - val_loss: 61.3077 - val_mae: 5.8787\n",
      "Epoch 59/100\n",
      "11/11 [==============================] - 0s 6ms/step - loss: 28.3286 - mae: 3.8597 - val_loss: 85.6345 - val_mae: 6.2588\n",
      "Epoch 60/100\n",
      "11/11 [==============================] - 0s 6ms/step - loss: 28.1745 - mae: 3.7997 - val_loss: 58.0512 - val_mae: 5.6787\n",
      "Epoch 61/100\n",
      "11/11 [==============================] - 0s 5ms/step - loss: 29.9892 - mae: 3.9035 - val_loss: 61.7564 - val_mae: 5.8027\n",
      "Epoch 62/100\n"
     ]
    },
    {
     "name": "stdout",
     "output_type": "stream",
     "text": [
      "11/11 [==============================] - 0s 5ms/step - loss: 26.9468 - mae: 3.7216 - val_loss: 64.6309 - val_mae: 6.2708\n",
      "Epoch 63/100\n",
      "11/11 [==============================] - 0s 10ms/step - loss: 35.8230 - mae: 4.3819 - val_loss: 84.7076 - val_mae: 6.3056\n",
      "Epoch 64/100\n",
      "11/11 [==============================] - 0s 10ms/step - loss: 32.7003 - mae: 4.3733 - val_loss: 64.5844 - val_mae: 5.6934\n",
      "Epoch 65/100\n",
      "11/11 [==============================] - 0s 6ms/step - loss: 28.1616 - mae: 3.8133 - val_loss: 63.5109 - val_mae: 5.6177\n",
      "Epoch 66/100\n",
      "11/11 [==============================] - 0s 5ms/step - loss: 28.9553 - mae: 3.9010 - val_loss: 86.6372 - val_mae: 6.3728\n",
      "Epoch 67/100\n",
      "11/11 [==============================] - 0s 5ms/step - loss: 27.6922 - mae: 3.7960 - val_loss: 66.9529 - val_mae: 5.6673\n",
      "Epoch 68/100\n",
      "11/11 [==============================] - 0s 5ms/step - loss: 26.6414 - mae: 3.6764 - val_loss: 73.6724 - val_mae: 5.7492\n",
      "Epoch 69/100\n",
      "11/11 [==============================] - 0s 5ms/step - loss: 27.5201 - mae: 3.8056 - val_loss: 67.8169 - val_mae: 5.6170\n",
      "Epoch 70/100\n",
      "11/11 [==============================] - 0s 5ms/step - loss: 27.9570 - mae: 3.8096 - val_loss: 58.9958 - val_mae: 5.5815\n",
      "Epoch 71/100\n",
      "11/11 [==============================] - 0s 6ms/step - loss: 28.6157 - mae: 3.9985 - val_loss: 82.1858 - val_mae: 6.2421\n",
      "Epoch 72/100\n",
      "11/11 [==============================] - 0s 6ms/step - loss: 31.7830 - mae: 3.9927 - val_loss: 60.5546 - val_mae: 5.8144\n",
      "Epoch 73/100\n",
      "11/11 [==============================] - 0s 6ms/step - loss: 26.3104 - mae: 3.6881 - val_loss: 80.0514 - val_mae: 6.0643\n",
      "Epoch 74/100\n",
      "11/11 [==============================] - 0s 6ms/step - loss: 29.2409 - mae: 3.9864 - val_loss: 69.4169 - val_mae: 5.5648\n",
      "Epoch 75/100\n",
      "11/11 [==============================] - 0s 6ms/step - loss: 32.3379 - mae: 4.2627 - val_loss: 72.1681 - val_mae: 5.9597\n",
      "Epoch 76/100\n",
      "11/11 [==============================] - 0s 6ms/step - loss: 30.6685 - mae: 3.9886 - val_loss: 56.6515 - val_mae: 5.7442\n",
      "Epoch 77/100\n",
      "11/11 [==============================] - 0s 6ms/step - loss: 28.1919 - mae: 3.8735 - val_loss: 63.7732 - val_mae: 5.4930\n",
      "Epoch 78/100\n",
      "11/11 [==============================] - 0s 5ms/step - loss: 32.2879 - mae: 4.2840 - val_loss: 110.8247 - val_mae: 8.1402\n",
      "Epoch 79/100\n",
      "11/11 [==============================] - 0s 6ms/step - loss: 39.9883 - mae: 4.9894 - val_loss: 62.9504 - val_mae: 5.4274\n",
      "Epoch 80/100\n",
      "11/11 [==============================] - 0s 7ms/step - loss: 36.9387 - mae: 4.4598 - val_loss: 57.1998 - val_mae: 5.5359\n",
      "Epoch 81/100\n",
      "11/11 [==============================] - 0s 6ms/step - loss: 29.2888 - mae: 3.9221 - val_loss: 60.9587 - val_mae: 6.2291\n",
      "Epoch 82/100\n",
      "11/11 [==============================] - 0s 7ms/step - loss: 26.9819 - mae: 3.8684 - val_loss: 74.1540 - val_mae: 5.8849\n",
      "Epoch 83/100\n",
      "11/11 [==============================] - 0s 6ms/step - loss: 27.8748 - mae: 3.8520 - val_loss: 59.2058 - val_mae: 5.4120\n",
      "Epoch 84/100\n",
      "11/11 [==============================] - 0s 6ms/step - loss: 26.0784 - mae: 3.5866 - val_loss: 63.0026 - val_mae: 5.5087\n",
      "Epoch 85/100\n",
      "11/11 [==============================] - 0s 5ms/step - loss: 26.7904 - mae: 3.7276 - val_loss: 72.1768 - val_mae: 5.7001\n",
      "Epoch 86/100\n",
      "11/11 [==============================] - 0s 5ms/step - loss: 30.4919 - mae: 4.1254 - val_loss: 87.0157 - val_mae: 6.5638\n",
      "Epoch 87/100\n",
      "11/11 [==============================] - 0s 6ms/step - loss: 28.8291 - mae: 3.8915 - val_loss: 61.7530 - val_mae: 6.3670\n",
      "Epoch 88/100\n",
      "11/11 [==============================] - 0s 6ms/step - loss: 28.8400 - mae: 3.9332 - val_loss: 77.9553 - val_mae: 6.0178\n",
      "Epoch 89/100\n",
      "11/11 [==============================] - 0s 6ms/step - loss: 27.8885 - mae: 3.8379 - val_loss: 73.6751 - val_mae: 5.8450\n",
      "Epoch 90/100\n",
      "11/11 [==============================] - 0s 6ms/step - loss: 30.1375 - mae: 4.0052 - val_loss: 57.6720 - val_mae: 5.4032\n",
      "Epoch 91/100\n",
      "11/11 [==============================] - 0s 6ms/step - loss: 28.4034 - mae: 3.8666 - val_loss: 54.1307 - val_mae: 5.5677\n",
      "Epoch 92/100\n",
      "11/11 [==============================] - 0s 6ms/step - loss: 25.6612 - mae: 3.6883 - val_loss: 55.6333 - val_mae: 5.3400\n",
      "Epoch 93/100\n",
      "11/11 [==============================] - 0s 6ms/step - loss: 25.7690 - mae: 3.6465 - val_loss: 80.1126 - val_mae: 6.1581\n",
      "Epoch 94/100\n",
      "11/11 [==============================] - 0s 6ms/step - loss: 26.2718 - mae: 3.6906 - val_loss: 61.1718 - val_mae: 5.4214\n",
      "Epoch 95/100\n",
      "11/11 [==============================] - 0s 6ms/step - loss: 23.8774 - mae: 3.5430 - val_loss: 76.1922 - val_mae: 6.0467\n",
      "Epoch 96/100\n",
      "11/11 [==============================] - 0s 6ms/step - loss: 25.9574 - mae: 3.7547 - val_loss: 69.2436 - val_mae: 5.6511\n",
      "Epoch 97/100\n",
      "11/11 [==============================] - 0s 6ms/step - loss: 24.0598 - mae: 3.4812 - val_loss: 54.3182 - val_mae: 5.4799\n",
      "Epoch 98/100\n",
      "11/11 [==============================] - 0s 5ms/step - loss: 24.8922 - mae: 3.5408 - val_loss: 63.7546 - val_mae: 5.3554\n",
      "Epoch 99/100\n",
      "11/11 [==============================] - 0s 6ms/step - loss: 24.3880 - mae: 3.6580 - val_loss: 68.3747 - val_mae: 5.5482\n",
      "Epoch 100/100\n",
      "11/11 [==============================] - 0s 6ms/step - loss: 26.1712 - mae: 3.5954 - val_loss: 74.4026 - val_mae: 5.8903\n"
     ]
    }
   ],
   "source": [
    "history = model.fit(X_train, y_train, epochs=100, validation_split=0.05)"
   ]
  },
  {
   "cell_type": "code",
   "execution_count": 19,
   "metadata": {
    "colab": {
     "base_uri": "https://localhost:8080/",
     "height": 517
    },
    "id": "iBl0sS4lzk1T",
    "outputId": "95fcd46d-9b07-4c99-9b8a-0782668c582f"
   },
   "outputs": [],
   "source": [
    "# fig = go.Figure()\n",
    "# fig.add_trace(go.Scattergl(y=history.history['loss'],\n",
    "#                     name='Train'))\n",
    "\n",
    "# fig.add_trace(go.Scattergl(y=history.history['val_loss'],\n",
    "#                     name='Valid'))\n",
    "\n",
    "\n",
    "# fig.update_layout(height=500, width=700,\n",
    "#                   xaxis_title='Epoch',\n",
    "#                   yaxis_title='Loss')\n",
    "# fig.show()"
   ]
  },
  {
   "cell_type": "code",
   "execution_count": 34,
   "metadata": {
    "colab": {
     "base_uri": "https://localhost:8080/"
    },
    "id": "LMWUTWIU4Fta",
    "outputId": "fd410a78-9c12-4331-f7a9-8a3252a4a79d"
   },
   "outputs": [
    {
     "name": "stdout",
     "output_type": "stream",
     "text": [
      "5/5 [==============================] - 0s 3ms/step\n"
     ]
    }
   ],
   "source": [
    "# np.set_printoptions(suppress=True)\n",
    "y_pred = model.predict(X_test)\n"
   ]
  },
  {
   "cell_type": "code",
   "execution_count": 29,
   "metadata": {},
   "outputs": [
    {
     "name": "stdout",
     "output_type": "stream",
     "text": [
      "5/5 [==============================] - 0s 6ms/step - loss: 31.1042 - mae: 3.7565\n",
      "Mean squared error on test data:  31.104171752929688\n",
      "Mean absolute error on test data:  3.7564918994903564\n",
      "Accuracy: 61.51811548972817\n"
     ]
    }
   ],
   "source": [
    "from sklearn.metrics import r2_score\n",
    "mse_nn, mae_nn= model.evaluate(X_test, y_test)\n",
    "r2 = r2_score(y_test, y_pred)\n",
    "\n",
    "print('Mean squared error on test data: ', mse_nn)\n",
    "print('Mean absolute error on test data: ', mae_nn)\n",
    "print('Accuracy:', r2*100)"
   ]
  },
  {
   "cell_type": "code",
   "execution_count": 33,
   "metadata": {
    "id": "m0nnc53b4bue"
   },
   "outputs": [],
   "source": [
    "# y_pred = np.zeros(len(result))\n",
    "# for i, score in enumerate(result):\n",
    "#     y_pred[i] = np.round(score)"
   ]
  },
  {
   "cell_type": "code",
   "execution_count": 35,
   "metadata": {
    "id": "d6zjJN9y4fWv"
   },
   "outputs": [],
   "source": [
    "mae = mean_absolute_error(y_pred, y_test)"
   ]
  },
  {
   "cell_type": "code",
   "execution_count": 36,
   "metadata": {
    "colab": {
     "base_uri": "https://localhost:8080/"
    },
    "id": "k90gvDIy4fyx",
    "outputId": "d8ab3b95-ed2f-491c-abcd-3125e92c83e9"
   },
   "outputs": [
    {
     "data": {
      "text/plain": [
       "3.756491858139634"
      ]
     },
     "execution_count": 36,
     "metadata": {},
     "output_type": "execute_result"
    }
   ],
   "source": [
    "mae"
   ]
  },
  {
   "cell_type": "code",
   "execution_count": 43,
   "metadata": {},
   "outputs": [
    {
     "data": {
      "text/plain": [
       "<matplotlib.collections.PathCollection at 0x297269887c0>"
      ]
     },
     "execution_count": 43,
     "metadata": {},
     "output_type": "execute_result"
    },
    {
     "data": {
      "image/png": "[encoded data removed]",
      "text/plain": [
       "<Figure size 720x720 with 1 Axes>"
      ]
     },
     "metadata": {
      "needs_background": "light"
     },
     "output_type": "display_data"
    }
   ],
   "source": [
    "import matplotlib.pyplot as plt\n",
    "\n",
    "plt.figure(figsize=(10,10))\n",
    "plt.scatter(y_test, y_pred, c='green')"
   ]
  },
  {
   "cell_type": "code",
   "execution_count": null,
   "metadata": {},
   "outputs": [],
   "source": []
  },
  {
   "cell_type": "code",
   "execution_count": null,
   "metadata": {
    "id": "yktAOQwK6Vbc"
   },
   "outputs": [],
   "source": []
  }
 ],
 "metadata": {
  "colab": {
   "provenance": []
  },
  "kernelspec": {
   "display_name": "Python 3 (ipykernel)",
   "language": "python",
   "name": "python3"
  },
  "language_info": {
   "codemirror_mode": {
    "name": "ipython",
    "version": 3
   },
   "file_extension": ".py",
   "mimetype": "text/x-python",
   "name": "python",
   "nbconvert_exporter": "python",
   "pygments_lexer": "ipython3",
   "version": "3.9.7"
  }
 },
 "nbformat": 4,
 "nbformat_minor": 1
}
